{
 "cells": [
  {
   "cell_type": "markdown",
   "id": "false-spring",
   "metadata": {},
   "source": [
    "# 2018-19 NBA Season"
   ]
  },
  {
   "cell_type": "code",
   "execution_count": 2,
   "id": "everyday-pitch",
   "metadata": {},
   "outputs": [],
   "source": [
    "%matplotlib inline\n",
    "\n",
    "import pandas as pd\n",
    "import geopandas as gpd\n",
    "import numpy as np\n",
    "import matplotlib.pyplot as plt\n",
    "\n",
    "# suppressing warnings can help keep notebook looking clean\n",
    "\n",
    "import warnings\n",
    "warnings.simplefilter(action='ignore')"
   ]
  },
  {
   "cell_type": "code",
   "execution_count": 3,
   "id": "educated-lending",
   "metadata": {},
   "outputs": [
    {
     "data": {
      "text/html": [
       "<div>\n",
       "<style scoped>\n",
       "    .dataframe tbody tr th:only-of-type {\n",
       "        vertical-align: middle;\n",
       "    }\n",
       "\n",
       "    .dataframe tbody tr th {\n",
       "        vertical-align: top;\n",
       "    }\n",
       "\n",
       "    .dataframe thead th {\n",
       "        text-align: right;\n",
       "    }\n",
       "</style>\n",
       "<table border=\"1\" class=\"dataframe\">\n",
       "  <thead>\n",
       "    <tr style=\"text-align: right;\">\n",
       "      <th></th>\n",
       "      <th>Round Number</th>\n",
       "      <th>Date</th>\n",
       "      <th>Location</th>\n",
       "      <th>Home Team</th>\n",
       "      <th>Away Team</th>\n",
       "      <th>Home Score</th>\n",
       "      <th>Away Score</th>\n",
       "      <th>geometry</th>\n",
       "    </tr>\n",
       "  </thead>\n",
       "  <tbody>\n",
       "    <tr>\n",
       "      <th>22</th>\n",
       "      <td>7</td>\n",
       "      <td>30/11/2018 17:00</td>\n",
       "      <td>Chesapeake Energy Arena</td>\n",
       "      <td>Oklahoma City Thunder</td>\n",
       "      <td>Atlanta Hawks</td>\n",
       "      <td>124</td>\n",
       "      <td>109</td>\n",
       "      <td>None</td>\n",
       "    </tr>\n",
       "    <tr>\n",
       "      <th>73</th>\n",
       "      <td>22</td>\n",
       "      <td>23/03/2019 16:30</td>\n",
       "      <td>State Farm Arena</td>\n",
       "      <td>Atlanta Hawks</td>\n",
       "      <td>Philadelphia 76ers</td>\n",
       "      <td>129</td>\n",
       "      <td>127</td>\n",
       "      <td>None</td>\n",
       "    </tr>\n",
       "    <tr>\n",
       "      <th>3</th>\n",
       "      <td>1</td>\n",
       "      <td>24/10/2018 16:00</td>\n",
       "      <td>State Farm Arena</td>\n",
       "      <td>Atlanta Hawks</td>\n",
       "      <td>Dallas Mavericks</td>\n",
       "      <td>111</td>\n",
       "      <td>104</td>\n",
       "      <td>None</td>\n",
       "    </tr>\n",
       "    <tr>\n",
       "      <th>75</th>\n",
       "      <td>23</td>\n",
       "      <td>29/03/2019 16:30</td>\n",
       "      <td>State Farm Arena</td>\n",
       "      <td>Atlanta Hawks</td>\n",
       "      <td>Portland Trail Blazers</td>\n",
       "      <td>98</td>\n",
       "      <td>118</td>\n",
       "      <td>None</td>\n",
       "    </tr>\n",
       "    <tr>\n",
       "      <th>1</th>\n",
       "      <td>1</td>\n",
       "      <td>19/10/2018 17:00</td>\n",
       "      <td>FedEx Forum</td>\n",
       "      <td>Memphis Grizzlies</td>\n",
       "      <td>Atlanta Hawks</td>\n",
       "      <td>131</td>\n",
       "      <td>117</td>\n",
       "      <td>None</td>\n",
       "    </tr>\n",
       "    <tr>\n",
       "      <th>69</th>\n",
       "      <td>21</td>\n",
       "      <td>16/03/2019 09:30</td>\n",
       "      <td>TD Garden</td>\n",
       "      <td>Boston Celtics</td>\n",
       "      <td>Atlanta Hawks</td>\n",
       "      <td>129</td>\n",
       "      <td>120</td>\n",
       "      <td>None</td>\n",
       "    </tr>\n",
       "    <tr>\n",
       "      <th>8</th>\n",
       "      <td>3</td>\n",
       "      <td>03/11/2018 16:30</td>\n",
       "      <td>State Farm Arena</td>\n",
       "      <td>Atlanta Hawks</td>\n",
       "      <td>Miami Heat</td>\n",
       "      <td>123</td>\n",
       "      <td>118</td>\n",
       "      <td>None</td>\n",
       "    </tr>\n",
       "    <tr>\n",
       "      <th>76</th>\n",
       "      <td>23</td>\n",
       "      <td>31/03/2019 09:30</td>\n",
       "      <td>State Farm Arena</td>\n",
       "      <td>Atlanta Hawks</td>\n",
       "      <td>Milwaukee Bucks</td>\n",
       "      <td>136</td>\n",
       "      <td>135</td>\n",
       "      <td>None</td>\n",
       "    </tr>\n",
       "    <tr>\n",
       "      <th>30</th>\n",
       "      <td>10</td>\n",
       "      <td>21/12/2018 16:30</td>\n",
       "      <td>Madison Square Garden</td>\n",
       "      <td>New York Knicks</td>\n",
       "      <td>Atlanta Hawks</td>\n",
       "      <td>107</td>\n",
       "      <td>114</td>\n",
       "      <td>None</td>\n",
       "    </tr>\n",
       "    <tr>\n",
       "      <th>70</th>\n",
       "      <td>21</td>\n",
       "      <td>17/03/2019 15:00</td>\n",
       "      <td>Amway Center</td>\n",
       "      <td>Orlando Magic</td>\n",
       "      <td>Atlanta Hawks</td>\n",
       "      <td>101</td>\n",
       "      <td>91</td>\n",
       "      <td>None</td>\n",
       "    </tr>\n",
       "  </tbody>\n",
       "</table>\n",
       "</div>"
      ],
      "text/plain": [
       "   Round Number              Date                 Location  \\\n",
       "22            7  30/11/2018 17:00  Chesapeake Energy Arena   \n",
       "73           22  23/03/2019 16:30         State Farm Arena   \n",
       "3             1  24/10/2018 16:00         State Farm Arena   \n",
       "75           23  29/03/2019 16:30         State Farm Arena   \n",
       "1             1  19/10/2018 17:00              FedEx Forum   \n",
       "69           21  16/03/2019 09:30                TD Garden   \n",
       "8             3  03/11/2018 16:30         State Farm Arena   \n",
       "76           23  31/03/2019 09:30         State Farm Arena   \n",
       "30           10  21/12/2018 16:30    Madison Square Garden   \n",
       "70           21  17/03/2019 15:00             Amway Center   \n",
       "\n",
       "                Home Team               Away Team Home Score Away Score  \\\n",
       "22  Oklahoma City Thunder           Atlanta Hawks        124        109   \n",
       "73          Atlanta Hawks      Philadelphia 76ers        129        127   \n",
       "3           Atlanta Hawks        Dallas Mavericks        111        104   \n",
       "75          Atlanta Hawks  Portland Trail Blazers         98        118   \n",
       "1       Memphis Grizzlies           Atlanta Hawks        131        117   \n",
       "69         Boston Celtics           Atlanta Hawks        129        120   \n",
       "8           Atlanta Hawks              Miami Heat        123        118   \n",
       "76          Atlanta Hawks         Milwaukee Bucks        136        135   \n",
       "30        New York Knicks           Atlanta Hawks        107        114   \n",
       "70          Orlando Magic           Atlanta Hawks        101         91   \n",
       "\n",
       "   geometry  \n",
       "22     None  \n",
       "73     None  \n",
       "3      None  \n",
       "75     None  \n",
       "1      None  \n",
       "69     None  \n",
       "8      None  \n",
       "76     None  \n",
       "30     None  \n",
       "70     None  "
      ]
     },
     "execution_count": 3,
     "metadata": {},
     "output_type": "execute_result"
    }
   ],
   "source": [
    "# load in first team's data (Atlanta Hawks)\n",
    "# sample it for quick examination\n",
    "\n",
    "hawks = gpd.read_file(\"../data/1819/1819 - hawks.csv\")\n",
    "hawks.sample(10)"
   ]
  },
  {
   "cell_type": "code",
   "execution_count": 5,
   "id": "involved-teacher",
   "metadata": {},
   "outputs": [
    {
     "name": "stdout",
     "output_type": "stream",
     "text": [
      "Round Number    41\n",
      "Date            41\n",
      "Location        41\n",
      "Home Team       41\n",
      "Away Team       41\n",
      "Home Score      41\n",
      "Away Score      41\n",
      "geometry         0\n",
      "dtype: int64\n",
      "Round Number    41\n",
      "Date            41\n",
      "Location        41\n",
      "Home Team       41\n",
      "Away Team       41\n",
      "Home Score      41\n",
      "Away Score      41\n",
      "geometry         0\n",
      "dtype: int64\n"
     ]
    }
   ],
   "source": [
    "# start by separating home and away statistics\n",
    "# make sure there are 41 entries each\n",
    "\n",
    "hawks_home = hawks[hawks['Home Team'] == 'Atlanta Hawks']\n",
    "print(hawks_home.count())\n",
    "hawks_away = hawks[hawks['Away Team'] == 'Atlanta Hawks']\n",
    "print(hawks_away.count())"
   ]
  },
  {
   "cell_type": "code",
   "execution_count": 11,
   "id": "imposed-classification",
   "metadata": {},
   "outputs": [
    {
     "name": "stdout",
     "output_type": "stream",
     "text": [
      "115.78048780487805\n",
      "119.8048780487805\n",
      "110.90243902439025\n",
      "118.92682926829268\n"
     ]
    }
   ],
   "source": [
    "# calculate the standard statisics for the overall baseline\n",
    "\n",
    "hawks_avg_h = (hawks_home['Home Score'].astype(int).sum()) / 41\n",
    "print(hawks_avg_h)\n",
    "hawks_opp_avg_h = (hawks_home['Away Score'].astype(int).sum()) / 41\n",
    "print(hawks_opp_avg_h)\n",
    "hawks_avg_a = (hawks_away['Away Score'].astype(int).sum()) / 41\n",
    "print(hawks_avg_a)\n",
    "hawks_opp_avg_a = (hawks_away['Home Score'].astype(int).sum()) / 41\n",
    "print(hawks_opp_avg_a)"
   ]
  },
  {
   "cell_type": "code",
   "execution_count": 32,
   "id": "electronic-scott",
   "metadata": {},
   "outputs": [
    {
     "name": "stdout",
     "output_type": "stream",
     "text": [
      "30\n"
     ]
    }
   ],
   "source": [
    "# set variables for teams in each time zone\n",
    "# double check if it adds up to 30 teams\n",
    "# these variables will be identical and can be reused later for all teams\n",
    "\n",
    "pacific = ['Golden State Warriors', 'LA Clippers', 'Los Angeles Lakers', 'Portland Trail Blazers',\n",
    "           'Sacramento Kings']\n",
    "mountain = ['Denver Nuggets', 'Phoenix Suns', 'Utah Jazz']\n",
    "central = ['Chicago Bulls', 'Dallas Mavericks', 'Milwaukee Bucks', 'Minnesota Timberwolves', 'New Orleans Pelicans',\n",
    "          'San Antonio Spurs', 'Houston Rockets', 'Memphis Grizzlies', 'Oklahoma City Thunder']\n",
    "eastern = ['Atlanta Hawks', 'Boston Celtics', 'Brooklyn Nets', 'Charlotte Hornets', 'Toronto Raptors',\n",
    "           'Washington Wizards', 'Cleveland Cavaliers', 'Detroit Pistons', 'Indiana Pacers', 'Miami Heat',\n",
    "          'Orlando Magic', 'Philadelphia 76ers', 'New York Knicks']\n",
    "\n",
    "print(len(pacific) + len(mountain) + len(central) + len(eastern))"
   ]
  },
  {
   "cell_type": "code",
   "execution_count": 39,
   "id": "heavy-producer",
   "metadata": {},
   "outputs": [
    {
     "name": "stdout",
     "output_type": "stream",
     "text": [
      "Round Number    5\n",
      "Date            5\n",
      "Location        5\n",
      "Home Team       5\n",
      "Away Team       5\n",
      "Home Score      5\n",
      "Away Score      5\n",
      "geometry        0\n",
      "dtype: int64\n",
      "Round Number    5\n",
      "Date            5\n",
      "Location        5\n",
      "Home Team       5\n",
      "Away Team       5\n",
      "Home Score      5\n",
      "Away Score      5\n",
      "geometry        0\n",
      "dtype: int64\n",
      "Round Number    3\n",
      "Date            3\n",
      "Location        3\n",
      "Home Team       3\n",
      "Away Team       3\n",
      "Home Score      3\n",
      "Away Score      3\n",
      "geometry        0\n",
      "dtype: int64\n",
      "Round Number    3\n",
      "Date            3\n",
      "Location        3\n",
      "Home Team       3\n",
      "Away Team       3\n",
      "Home Score      3\n",
      "Away Score      3\n",
      "geometry        0\n",
      "dtype: int64\n",
      "Round Number    11\n",
      "Date            11\n",
      "Location        11\n",
      "Home Team       11\n",
      "Away Team       11\n",
      "Home Score      11\n",
      "Away Score      11\n",
      "geometry         0\n",
      "dtype: int64\n",
      "Round Number    11\n",
      "Date            11\n",
      "Location        11\n",
      "Home Team       11\n",
      "Away Team       11\n",
      "Home Score      11\n",
      "Away Score      11\n",
      "geometry         0\n",
      "dtype: int64\n",
      "Round Number    22\n",
      "Date            22\n",
      "Location        22\n",
      "Home Team       22\n",
      "Away Team       22\n",
      "Home Score      22\n",
      "Away Score      22\n",
      "geometry         0\n",
      "dtype: int64\n",
      "Round Number    22\n",
      "Date            22\n",
      "Location        22\n",
      "Home Team       22\n",
      "Away Team       22\n",
      "Home Score      22\n",
      "Away Score      22\n",
      "geometry         0\n",
      "dtype: int64\n"
     ]
    }
   ],
   "source": [
    "# organize the eight subcategories:\n",
    "# four time zone opponents, each with both home and away\n",
    "# make sure it adds up to 82 total games\n",
    "\n",
    "hawks_home_p = hawks_home[hawks_home['Away Team'].isin(pacific)]\n",
    "hawks_away_p = hawks_away[hawks_away['Home Team'].isin(pacific)]\n",
    "hawks_home_m = hawks_home[hawks_home['Away Team'].isin(mountain)]\n",
    "hawks_away_m = hawks_away[hawks_away['Home Team'].isin(mountain)]\n",
    "hawks_home_c = hawks_home[hawks_home['Away Team'].isin(central)]\n",
    "hawks_away_c = hawks_away[hawks_away['Home Team'].isin(central)]\n",
    "hawks_home_e = hawks_home[hawks_home['Away Team'].isin(eastern)]\n",
    "hawks_away_e = hawks_away[hawks_away['Home Team'].isin(eastern)]\n",
    "\n",
    "print(hawks_home_p.count())\n",
    "print(hawks_away_p.count())\n",
    "print(hawks_home_m.count())\n",
    "print(hawks_away_m.count())\n",
    "print(hawks_home_c.count())\n",
    "print(hawks_away_c.count())\n",
    "print(hawks_home_e.count())\n",
    "print(hawks_away_e.count())"
   ]
  },
  {
   "cell_type": "code",
   "execution_count": 47,
   "id": "three-leave",
   "metadata": {},
   "outputs": [
    {
     "name": "stdout",
     "output_type": "stream",
     "text": [
      "112.0\n",
      "126.4\n",
      "111.2\n",
      "118.0\n"
     ]
    }
   ],
   "source": [
    "# calculate pacific statistics\n",
    "\n",
    "hawks_avg_h_p = (hawks_home_p['Home Score'].astype(int).sum()) / 5\n",
    "print(hawks_avg_h_p)\n",
    "hawks_opp_avg_h_p = (hawks_home_p['Away Score'].astype(int).sum()) / 5\n",
    "print(hawks_opp_avg_h_p)\n",
    "hawks_avg_a_p = (hawks_away_p['Away Score'].astype(int).sum()) / 5\n",
    "print(hawks_avg_a_p)\n",
    "hawks_opp_avg_a_p = (hawks_away_p['Home Score'].astype(int).sum()) / 5\n",
    "print(hawks_opp_avg_a_p)"
   ]
  },
  {
   "cell_type": "code",
   "execution_count": 45,
   "id": "meaning-jason",
   "metadata": {},
   "outputs": [
    {
     "name": "stdout",
     "output_type": "stream",
     "text": [
      "114.33333333333333\n",
      "108.0\n",
      "107.66666666666667\n",
      "126.0\n"
     ]
    }
   ],
   "source": [
    "# calculate mountain statistics\n",
    "\n",
    "hawks_avg_h_m = (hawks_home_m['Home Score'].astype(int).sum()) / 3\n",
    "print(hawks_avg_h_m)\n",
    "hawks_opp_avg_h_m = (hawks_home_m['Away Score'].astype(int).sum()) / 3\n",
    "print(hawks_opp_avg_h_m)\n",
    "hawks_avg_a_m = (hawks_away_m['Away Score'].astype(int).sum()) / 3\n",
    "print(hawks_avg_a_m)\n",
    "hawks_opp_avg_a_m = (hawks_away_m['Home Score'].astype(int).sum()) / 3\n",
    "print(hawks_opp_avg_a_m)"
   ]
  },
  {
   "cell_type": "code",
   "execution_count": 48,
   "id": "seventh-sympathy",
   "metadata": {},
   "outputs": [
    {
     "name": "stdout",
     "output_type": "stream",
     "text": [
      "122.63636363636364\n",
      "122.27272727272727\n",
      "115.54545454545455\n",
      "120.27272727272727\n"
     ]
    }
   ],
   "source": [
    "# calculate central statistics\n",
    "\n",
    "hawks_avg_h_c = (hawks_home_c['Home Score'].astype(int).sum()) / 11\n",
    "print(hawks_avg_h_c)\n",
    "hawks_opp_avg_h_c = (hawks_home_c['Away Score'].astype(int).sum()) / 11\n",
    "print(hawks_opp_avg_h_c)\n",
    "hawks_avg_a_c = (hawks_away_c['Away Score'].astype(int).sum()) / 11\n",
    "print(hawks_avg_a_c)\n",
    "hawks_opp_avg_a_c = (hawks_away_c['Home Score'].astype(int).sum()) / 11\n",
    "print(hawks_opp_avg_a_c)"
   ]
  },
  {
   "cell_type": "code",
   "execution_count": 49,
   "id": "retired-coordinator",
   "metadata": {},
   "outputs": [
    {
     "name": "stdout",
     "output_type": "stream",
     "text": [
      "113.4090909090909\n",
      "118.68181818181819\n",
      "108.95454545454545\n",
      "117.5\n"
     ]
    }
   ],
   "source": [
    "# calculate eastern statisics\n",
    "\n",
    "hawks_avg_h_e = (hawks_home_e['Home Score'].astype(int).sum()) / 22\n",
    "print(hawks_avg_h_e)\n",
    "hawks_opp_avg_h_e = (hawks_home_e['Away Score'].astype(int).sum()) / 22\n",
    "print(hawks_opp_avg_h_e)\n",
    "hawks_avg_a_e = (hawks_away_e['Away Score'].astype(int).sum()) / 22\n",
    "print(hawks_avg_a_e)\n",
    "hawks_opp_avg_a_e = (hawks_away_e['Home Score'].astype(int).sum()) / 22\n",
    "print(hawks_opp_avg_a_e)"
   ]
  },
  {
   "cell_type": "code",
   "execution_count": 50,
   "id": "coral-anderson",
   "metadata": {},
   "outputs": [
    {
     "name": "stdout",
     "output_type": "stream",
     "text": [
      "115.78048780487805\n",
      "112.0\n",
      "114.33333333333333\n",
      "122.63636363636364\n",
      "113.4090909090909\n"
     ]
    }
   ],
   "source": [
    "# compare all home numbers for hawks\n",
    "\n",
    "print(hawks_avg_h)\n",
    "print(hawks_avg_h_p)\n",
    "print(hawks_avg_h_m)\n",
    "print(hawks_avg_h_c)\n",
    "print(hawks_avg_h_e)"
   ]
  },
  {
   "cell_type": "code",
   "execution_count": 51,
   "id": "optical-auction",
   "metadata": {},
   "outputs": [
    {
     "name": "stdout",
     "output_type": "stream",
     "text": [
      "110.90243902439025\n",
      "111.2\n",
      "107.66666666666667\n",
      "115.54545454545455\n",
      "108.95454545454545\n"
     ]
    }
   ],
   "source": [
    "# compare all away numbers for hawks\n",
    "\n",
    "print(hawks_avg_a)\n",
    "print(hawks_avg_a_p)\n",
    "print(hawks_avg_a_m)\n",
    "print(hawks_avg_a_c)\n",
    "print(hawks_avg_a_e)"
   ]
  },
  {
   "cell_type": "code",
   "execution_count": 52,
   "id": "hidden-trouble",
   "metadata": {},
   "outputs": [
    {
     "name": "stdout",
     "output_type": "stream",
     "text": [
      "119.8048780487805\n",
      "126.4\n",
      "108.0\n",
      "122.27272727272727\n",
      "118.68181818181819\n"
     ]
    }
   ],
   "source": [
    "# compare all opponent numbers for hawks at home\n",
    "\n",
    "print(hawks_opp_avg_h)\n",
    "print(hawks_opp_avg_h_p)\n",
    "print(hawks_opp_avg_h_m)\n",
    "print(hawks_opp_avg_h_c)\n",
    "print(hawks_opp_avg_h_e)"
   ]
  },
  {
   "cell_type": "code",
   "execution_count": 53,
   "id": "essential-poetry",
   "metadata": {},
   "outputs": [
    {
     "name": "stdout",
     "output_type": "stream",
     "text": [
      "118.92682926829268\n",
      "118.0\n",
      "126.0\n",
      "120.27272727272727\n",
      "117.5\n"
     ]
    }
   ],
   "source": [
    "# compare all opponent numbers for hawks away\n",
    "\n",
    "print(hawks_opp_avg_a)\n",
    "print(hawks_opp_avg_a_p)\n",
    "print(hawks_opp_avg_a_m)\n",
    "print(hawks_opp_avg_a_c)\n",
    "print(hawks_opp_avg_a_e)"
   ]
  },
  {
   "cell_type": "code",
   "execution_count": 55,
   "id": "north-biodiversity",
   "metadata": {},
   "outputs": [
    {
     "name": "stdout",
     "output_type": "stream",
     "text": [
      "-4.024390243902445\n",
      "-8.024390243902431\n"
     ]
    }
   ],
   "source": [
    "# comparing all these numbers do not seem to be providing a solid conclusion\n",
    "# however, points differential can also be an interesting, and arguably better, factor to consider\n",
    "# we can see here that the team does perform a lot better at home than away\n",
    "\n",
    "hawks_diff_h = hawks_avg_h - hawks_opp_avg_h\n",
    "print(hawks_diff_h)\n",
    "hawks_diff_a = hawks_avg_a - hawks_opp_avg_a\n",
    "print(hawks_diff_a)"
   ]
  },
  {
   "cell_type": "code",
   "execution_count": 59,
   "id": "nearby-technical",
   "metadata": {},
   "outputs": [
    {
     "name": "stdout",
     "output_type": "stream",
     "text": [
      "-14.400000000000006\n",
      "-6.799999999999997\n",
      "6.333333333333329\n",
      "-18.33333333333333\n",
      "0.36363636363637397\n",
      "-4.7272727272727195\n",
      "-5.2727272727272805\n",
      "-8.545454545454547\n"
     ]
    }
   ],
   "source": [
    "# now explore the differential across every time zone\n",
    "\n",
    "hawks_diff_h_p = hawks_avg_h_p - hawks_opp_avg_h_p\n",
    "print(hawks_diff_h_p)\n",
    "hawks_diff_a_p = hawks_avg_a_p - hawks_opp_avg_a_p\n",
    "print(hawks_diff_a_p)\n",
    "hawks_diff_h_m = hawks_avg_h_m - hawks_opp_avg_h_m\n",
    "print(hawks_diff_h_m)\n",
    "hawks_diff_a_m = hawks_avg_a_m - hawks_opp_avg_a_m\n",
    "print(hawks_diff_a_m)\n",
    "hawks_diff_h_c = hawks_avg_h_c - hawks_opp_avg_h_c\n",
    "print(hawks_diff_h_c)\n",
    "hawks_diff_a_c = hawks_avg_a_c - hawks_opp_avg_a_c\n",
    "print(hawks_diff_a_c)\n",
    "hawks_diff_h_e = hawks_avg_h_e - hawks_opp_avg_h_e\n",
    "print(hawks_diff_h_e)\n",
    "hawks_diff_a_e = hawks_avg_a_e - hawks_opp_avg_a_e\n",
    "print(hawks_diff_a_e)"
   ]
  },
  {
   "cell_type": "code",
   "execution_count": 77,
   "id": "fiscal-parker",
   "metadata": {},
   "outputs": [],
   "source": [
    "# create a new dataframe to slowly append these data for each team\n",
    "# this will end up being the final export of the notebook\n",
    "\n",
    "hawks_data = [['ATLANTA HAWKS',\n",
    "             hawks_avg_h, hawks_avg_h_p, hawks_avg_h_m, hawks_avg_h_c, hawks_avg_h_e,\n",
    "             hawks_avg_a, hawks_avg_a_p, hawks_avg_a_m, hawks_avg_a_c, hawks_avg_a_e,\n",
    "             hawks_opp_avg_h, hawks_opp_avg_h_p, hawks_opp_avg_h_m, hawks_opp_avg_h_c, hawks_opp_avg_h_e,\n",
    "             hawks_opp_avg_a, hawks_opp_avg_a_p, hawks_opp_avg_a_m, hawks_opp_avg_a_c, hawks_opp_avg_a_e,\n",
    "             hawks_diff_h, hawks_diff_h_p, hawks_diff_h_m, hawks_diff_h_c, hawks_diff_h_e,\n",
    "             hawks_diff_a, hawks_diff_a_p, hawks_diff_a_m, hawks_diff_a_c, hawks_diff_a_e]]\n",
    "df_1819 = pd.DataFrame(hawks_data, columns = ['TEAM',\n",
    "                                              'AVG H', 'AVG H P', 'AVG H M', 'AVG H C', 'AVG H E',\n",
    "                                              'AVG A', 'AVG A P', 'AVG A M', 'AVG A C', 'AVG A E',\n",
    "                                              'OPP AVG H', 'OPP AVG H P', 'OPP AVG H M', 'OPP AVG H C', 'OPP AVG H E',\n",
    "                                              'OPP AVG A', 'OPP AVG A P', 'OPP AVG A M', 'OPP AVG A C', 'OPP AVG A E',\n",
    "                                              'DIFF H', 'DIFF H P', 'DIFF H M', 'DIFF H C', 'DIFF H E',\n",
    "                                              'DIFF A', 'DIFF A P', 'DIFF A M', 'DIFF A C', 'DIFF A E'])"
   ]
  },
  {
   "cell_type": "code",
   "execution_count": 78,
   "id": "mounted-monitor",
   "metadata": {},
   "outputs": [
    {
     "data": {
      "text/html": [
       "<div>\n",
       "<style scoped>\n",
       "    .dataframe tbody tr th:only-of-type {\n",
       "        vertical-align: middle;\n",
       "    }\n",
       "\n",
       "    .dataframe tbody tr th {\n",
       "        vertical-align: top;\n",
       "    }\n",
       "\n",
       "    .dataframe thead th {\n",
       "        text-align: right;\n",
       "    }\n",
       "</style>\n",
       "<table border=\"1\" class=\"dataframe\">\n",
       "  <thead>\n",
       "    <tr style=\"text-align: right;\">\n",
       "      <th></th>\n",
       "      <th>TEAM</th>\n",
       "      <th>AVG H</th>\n",
       "      <th>AVG H P</th>\n",
       "      <th>AVG H M</th>\n",
       "      <th>AVG H C</th>\n",
       "      <th>AVG H E</th>\n",
       "      <th>AVG A</th>\n",
       "      <th>AVG A P</th>\n",
       "      <th>AVG A M</th>\n",
       "      <th>AVG A C</th>\n",
       "      <th>...</th>\n",
       "      <th>DIFF H</th>\n",
       "      <th>DIFF H P</th>\n",
       "      <th>DIFF H M</th>\n",
       "      <th>DIFF H C</th>\n",
       "      <th>DIFF H E</th>\n",
       "      <th>DIFF A</th>\n",
       "      <th>DIFF A P</th>\n",
       "      <th>DIFF A M</th>\n",
       "      <th>DIFF A C</th>\n",
       "      <th>DIFF A E</th>\n",
       "    </tr>\n",
       "  </thead>\n",
       "  <tbody>\n",
       "    <tr>\n",
       "      <th>0</th>\n",
       "      <td>ATLANTA HAWKS</td>\n",
       "      <td>115.780488</td>\n",
       "      <td>112.0</td>\n",
       "      <td>114.333333</td>\n",
       "      <td>122.636364</td>\n",
       "      <td>113.409091</td>\n",
       "      <td>110.902439</td>\n",
       "      <td>111.2</td>\n",
       "      <td>107.666667</td>\n",
       "      <td>115.545455</td>\n",
       "      <td>...</td>\n",
       "      <td>-4.02439</td>\n",
       "      <td>-14.4</td>\n",
       "      <td>6.333333</td>\n",
       "      <td>0.363636</td>\n",
       "      <td>-5.272727</td>\n",
       "      <td>-8.02439</td>\n",
       "      <td>-6.8</td>\n",
       "      <td>-18.333333</td>\n",
       "      <td>-4.727273</td>\n",
       "      <td>-8.545455</td>\n",
       "    </tr>\n",
       "  </tbody>\n",
       "</table>\n",
       "<p>1 rows × 31 columns</p>\n",
       "</div>"
      ],
      "text/plain": [
       "            TEAM       AVG H  AVG H P     AVG H M     AVG H C     AVG H E  \\\n",
       "0  ATLANTA HAWKS  115.780488    112.0  114.333333  122.636364  113.409091   \n",
       "\n",
       "        AVG A  AVG A P     AVG A M     AVG A C  ...   DIFF H  DIFF H P  \\\n",
       "0  110.902439    111.2  107.666667  115.545455  ... -4.02439     -14.4   \n",
       "\n",
       "   DIFF H M  DIFF H C  DIFF H E   DIFF A  DIFF A P   DIFF A M  DIFF A C  \\\n",
       "0  6.333333  0.363636 -5.272727 -8.02439      -6.8 -18.333333 -4.727273   \n",
       "\n",
       "   DIFF A E  \n",
       "0 -8.545455  \n",
       "\n",
       "[1 rows x 31 columns]"
      ]
     },
     "execution_count": 78,
     "metadata": {},
     "output_type": "execute_result"
    }
   ],
   "source": [
    "# double check the output\n",
    "# ready to append the rest of the league!\n",
    "\n",
    "df_1819"
   ]
  },
  {
   "cell_type": "code",
   "execution_count": null,
   "id": "valuable-construction",
   "metadata": {},
   "outputs": [],
   "source": []
  }
 ],
 "metadata": {
  "kernelspec": {
   "display_name": "Python 3",
   "language": "python",
   "name": "python3"
  },
  "language_info": {
   "codemirror_mode": {
    "name": "ipython",
    "version": 3
   },
   "file_extension": ".py",
   "mimetype": "text/x-python",
   "name": "python",
   "nbconvert_exporter": "python",
   "pygments_lexer": "ipython3",
   "version": "3.9.2"
  }
 },
 "nbformat": 4,
 "nbformat_minor": 5
}
